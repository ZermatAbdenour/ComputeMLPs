{
  "cells": [
    {
      "cell_type": "code",
      "execution_count": 1,
      "metadata": {
        "colab": {
          "base_uri": "https://localhost:8080/"
        },
        "id": "RHOt6o8Mj3Ek",
        "outputId": "0ef6ffef-ecc7-4d99-89a7-e6a2ee9776d1"
      },
      "outputs": [
        {
          "name": "stdout",
          "output_type": "stream",
          "text": [
            "Downloading data from https://storage.googleapis.com/tensorflow/tf-keras-datasets/mnist.npz\n",
            "\u001b[1m11490434/11490434\u001b[0m \u001b[32m━━━━━━━━━━━━━━━━━━━━\u001b[0m\u001b[37m\u001b[0m \u001b[1m4s\u001b[0m 0us/step\n"
          ]
        }
      ],
      "source": [
        "import numpy as np\n",
        "import tensorflow as tf\n",
        "\n",
        "(x_train, y_train), (x_test, y_test) = tf.keras.datasets.mnist.load_data()\n",
        "\n",
        "x_train, x_test = x_train / 255.0, x_test / 255.0\n",
        "\n",
        "x_train = x_train.reshape(x_train.shape[0], -1).T\n",
        "x_test = x_test.reshape(x_test.shape[0], -1).T\n",
        "\n",
        "y_train, y_test = y_train.astype(np.int32), y_test.astype(np.int32)\n",
        "#train on subset\n",
        "x_train = x_train[:,:10000]\n",
        "y_train = y_train[:10000]\n"
      ]
    },
    {
      "cell_type": "code",
      "execution_count": 2,
      "metadata": {
        "colab": {
          "base_uri": "https://localhost:8080/"
        },
        "id": "B3MMseJVFuUb",
        "outputId": "e25ab6d9-aba1-48a9-f297-39e63e13ad6a"
      },
      "outputs": [
        {
          "data": {
            "text/plain": [
              "(784, 10000)"
            ]
          },
          "execution_count": 2,
          "metadata": {},
          "output_type": "execute_result"
        }
      ],
      "source": [
        "x_train.shape"
      ]
    },
    {
      "cell_type": "code",
      "execution_count": 3,
      "metadata": {
        "id": "yJ7NveDoDJ4X"
      },
      "outputs": [],
      "source": [
        "def init_params():\n",
        "    w1 = np.random.randn(10, 28*28) * np.sqrt(1. / (28*28))\n",
        "    b1 = np.random.randn(10, 1) * 0.01\n",
        "    w2 = np.random.randn(10, 10) * np.sqrt(1. / 10)\n",
        "    b2 = np.random.randn(10, 1) * 0.01\n",
        "    return w1, b1, w2, b2\n",
        "\n",
        "def ReLu(z):\n",
        "    return np.maximum(z, 0)\n",
        "\n",
        "def ReLu_deriv(z):\n",
        "    return (z > 0).astype(float)\n",
        "\n",
        "def Softmax(z):\n",
        "    exp_z = np.exp(z - np.max(z, axis=0, keepdims=True))\n",
        "    return exp_z / np.sum(exp_z, axis=0, keepdims=True)\n",
        "\n",
        "def forward_prop(w1, b1, w2, b2, X):\n",
        "    z1 = np.dot(w1, X) + b1\n",
        "    a1 = ReLu(z1)\n",
        "    z2 = np.dot(w2, a1) + b2\n",
        "    a2 = Softmax(z2)\n",
        "    return z1, a1, z2, a2\n",
        "\n",
        "def one_hot(y, num_classes=10):\n",
        "    y = y.reshape(-1)\n",
        "    one_hot = np.zeros((num_classes, y.size))\n",
        "    one_hot[y, np.arange(y.size)] = 1\n",
        "    return one_hot\n",
        "\n",
        "def back_prop(z1, a1, z2, a2, w2, x, y):\n",
        "    m = y.size\n",
        "    one_hot_y = one_hot(y, num_classes=10)\n",
        "\n",
        "    dz2 = a2 - one_hot_y\n",
        "    dw2 = (1 / m) * np.dot(dz2, a1.T)\n",
        "    db2 = (1 / m) * np.sum(dz2, axis=1, keepdims=True)\n",
        "\n",
        "    dz1 = np.dot(w2.T, dz2) * ReLu_deriv(z1)\n",
        "    dw1 = (1 / m) * np.dot(dz1, x.T)\n",
        "    db1 = (1 / m) * np.sum(dz1, axis=1, keepdims=True)\n",
        "\n",
        "    return dw1, db1, dw2, db2\n",
        "\n",
        "def update_params(w1, b1, w2, b2, dw1, db1, dw2, db2, alpha):\n",
        "    w1 -= alpha * dw1\n",
        "    b1 -= alpha * db1\n",
        "    w2 -= alpha * dw2\n",
        "    b2 -= alpha * db2\n",
        "    return w1, b1, w2, b2\n",
        "\n",
        "def get_predictions(A2):\n",
        "    return np.argmax(A2, axis=0)\n",
        "\n",
        "def get_accuracy(predictions, y):\n",
        "    return np.mean(predictions == y)\n",
        "\n"
      ]
    },
    {
      "cell_type": "code",
      "execution_count": 6,
      "metadata": {
        "colab": {
          "base_uri": "https://localhost:8080/"
        },
        "id": "rkW38330FOIN",
        "outputId": "fa12c298-94ac-483b-b275-c928cc3d8af8"
      },
      "outputs": [
        {
          "name": "stdout",
          "output_type": "stream",
          "text": [
            "Iteration 0: Accuracy = 0.1222\n",
            "Iteration 50: Accuracy = 0.7546\n",
            "Iteration 100: Accuracy = 0.8372\n",
            "Iteration 150: Accuracy = 0.8697\n",
            "Iteration 200: Accuracy = 0.8873\n",
            "Iteration 250: Accuracy = 0.8980\n",
            "Iteration 300: Accuracy = 0.9053\n",
            "Iteration 350: Accuracy = 0.9110\n",
            "Iteration 400: Accuracy = 0.9165\n",
            "Iteration 450: Accuracy = 0.9209\n",
            "Iteration 500: Accuracy = 0.9228\n",
            "Iteration 550: Accuracy = 0.9252\n",
            "Iteration 600: Accuracy = 0.9273\n",
            "Iteration 650: Accuracy = 0.9293\n",
            "Iteration 700: Accuracy = 0.9299\n",
            "Iteration 750: Accuracy = 0.9313\n",
            "Iteration 800: Accuracy = 0.9318\n",
            "Iteration 850: Accuracy = 0.9327\n",
            "Iteration 900: Accuracy = 0.9334\n",
            "Iteration 950: Accuracy = 0.9345\n"
          ]
        }
      ],
      "source": [
        "def gradient_descent(X, Y, iterations, alpha):\n",
        "    w1, b1, w2, b2 = init_params()\n",
        "\n",
        "    for i in range(iterations):\n",
        "        z1, a1, z2, a2 = forward_prop(w1, b1, w2, b2, X)\n",
        "        dw1, db1, dw2, db2 = back_prop(z1, a1, z2, a2, w2, X, Y)\n",
        "        w1, b1, w2, b2 = update_params(w1, b1, w2, b2, dw1, db1, dw2, db2, alpha)\n",
        "\n",
        "        if i % 50 == 0:\n",
        "            accuracy = get_accuracy(get_predictions(a2), Y)\n",
        "            print(f\"Iteration {i}: Accuracy = {accuracy:.4f}\")\n",
        "    return w1, b1, w2, b2\n",
        "\n",
        "w1, b1, w2, b2 = gradient_descent(x_train, y_train, iterations=1000, alpha=0.1)\n"
      ]
    },
    {
      "cell_type": "code",
      "execution_count": 8,
      "metadata": {
        "colab": {
          "base_uri": "https://localhost:8080/"
        },
        "id": "ddnCimpAGhDN",
        "outputId": "b45a57bc-96e7-4498-b294-de9a183db051"
      },
      "outputs": [
        {
          "name": "stdout",
          "output_type": "stream",
          "text": [
            "Accuracy = 0.9129\n"
          ]
        }
      ],
      "source": [
        "#test data\n",
        "def test_predictions(w1, b1, w2, b2,x,y):\n",
        "  _, _, _, a2 = forward_prop(w1, b1, w2, b2, x)\n",
        "  accuracy = get_accuracy(get_predictions(a2), y)\n",
        "  print(f\"Accuracy = {accuracy:.4f}\")\n",
        "\n",
        "test_predictions(w1, b1, w2, b2,x_test,y_test)"
      ]
    },
    {
      "cell_type": "code",
      "execution_count": null,
      "metadata": {},
      "outputs": [],
      "source": []
    }
  ],
  "metadata": {
    "colab": {
      "provenance": []
    },
    "kernelspec": {
      "display_name": "venv",
      "language": "python",
      "name": "python3"
    },
    "language_info": {
      "codemirror_mode": {
        "name": "ipython",
        "version": 3
      },
      "file_extension": ".py",
      "mimetype": "text/x-python",
      "name": "python",
      "nbconvert_exporter": "python",
      "pygments_lexer": "ipython3",
      "version": "3.12.0"
    }
  },
  "nbformat": 4,
  "nbformat_minor": 0
}
